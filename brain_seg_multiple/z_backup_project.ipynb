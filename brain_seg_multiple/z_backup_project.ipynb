{
 "cells": [
  {
   "cell_type": "code",
   "execution_count": 1,
   "id": "523aef82",
   "metadata": {},
   "outputs": [],
   "source": [
    "import zipfile\n",
    "import os\n",
    "import time\n",
    "\n",
    "def zip_folder(folder_path, zip_path):\n",
    "    with zipfile.ZipFile(zip_path, 'w', zipfile.ZIP_DEFLATED) as zipf:\n",
    "        for root, dirs, files in os.walk(folder_path):\n",
    "            # 如果子文件夹不是以\"data\"开头，则将其压缩\n",
    "            dirs[:] = [d for d in dirs if not d.startswith('data')]\n",
    "            for file in files:\n",
    "                file_path = os.path.join(root, file)\n",
    "                # 跳过.pth格式的文件\n",
    "                if not file.endswith('.pth'):\n",
    "                    zipf.write(file_path, os.path.relpath(file_path, folder_path))\n",
    "\n",
    "folder_path = '/tmp/code/brain_seg'\n",
    "zip_path = f'/tmp/code/brain_seg_{time.strftime(\"%m%d_%H:%M:%S\")}.zip'\n",
    "\n",
    "zip_folder(folder_path, zip_path)\n"
   ]
  },
  {
   "cell_type": "code",
   "execution_count": null,
   "id": "49934231",
   "metadata": {},
   "outputs": [],
   "source": [
    "import zipfile\n",
    "import os\n",
    "import time\n",
    "\n",
    "def zip_folder(folder_path, zip_path):\n",
    "    with zipfile.ZipFile(zip_path, 'w', zipfile.ZIP_DEFLATED) as zipf:\n",
    "        for root, dirs, files in os.walk(folder_path):\n",
    "            for file in files:\n",
    "                file_path = os.path.join(root, file)\n",
    "                # 检查文件类型是否为.py或.ipynb\n",
    "                if file.endswith('.py') or file.endswith('.ipynb'):\n",
    "                    zipf.write(file_path, os.path.relpath(file_path, folder_path))\n",
    "\n",
    "folder_path = '/tmp/code/brain_seg'\n",
    "zip_path = f'/tmp/code/brain_seg_{time.strftime(\"%m%d_%H:%M:%S\")}.zip'\n",
    "\n",
    "zip_folder(folder_path, zip_path)\n"
   ]
  }
 ],
 "metadata": {
  "kernelspec": {
   "display_name": "Python 3 (ipykernel)",
   "language": "python",
   "name": "python3"
  },
  "language_info": {
   "codemirror_mode": {
    "name": "ipython",
    "version": 3
   },
   "file_extension": ".py",
   "mimetype": "text/x-python",
   "name": "python",
   "nbconvert_exporter": "python",
   "pygments_lexer": "ipython3",
   "version": "3.10.11"
  }
 },
 "nbformat": 4,
 "nbformat_minor": 5
}
