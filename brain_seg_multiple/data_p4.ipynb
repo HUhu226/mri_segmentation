{
 "cells": [
  {
   "cell_type": "markdown",
   "id": "df7f07bd",
   "metadata": {},
   "source": [
    "## 解决样本不均衡"
   ]
  },
  {
   "cell_type": "markdown",
   "id": "aa9ca2aa",
   "metadata": {},
   "source": [
    "### 只抽取含有label=10的切片作为训练集"
   ]
  },
  {
   "cell_type": "code",
   "execution_count": 2,
   "id": "11e57794",
   "metadata": {},
   "outputs": [],
   "source": [
    "import numpy as np\n",
    "import os\n",
    "import shutil\n",
    "source_path = '/tmp/code/brain_seg/data00/train/00'\n",
    "destination_path = '/tmp/code/brain_seg/data00/train/0010'\n",
    "# 创建目标文件夹\n",
    "if not os.path.exists(destination_path):\n",
    "    os.makedirs(destination_path)\n",
    "folderlist = os.listdir(source_path)\n",
    "for filename in folderlist:\n",
    "    filepath = os.path.join(source_path, filename)\n",
    "    img = np.load(filepath)\n",
    "    img = np.asarray(img)\n",
    "    if np.sum(img[1] == 10) > 0:\n",
    "        # 复制文件到目标文件夹\n",
    "        shutil.copy(filepath, destination_path)\n",
    "        print(filename)"
   ]
  },
  {
   "cell_type": "code",
   "execution_count": 3,
   "id": "599e7f46",
   "metadata": {},
   "outputs": [
    {
     "name": "stdout",
     "output_type": "stream",
     "text": [
      "文件数: 6778\n"
     ]
    }
   ],
   "source": [
    "import os\n",
    "path = '/tmp/code/brain_seg/data00/train/0010'\n",
    "file_count = len(os.listdir(path))\n",
    "print(\"文件数:\", file_count)"
   ]
  },
  {
   "cell_type": "markdown",
   "id": "bf117e56",
   "metadata": {},
   "source": [
    "### 选取10个作为测试集"
   ]
  },
  {
   "cell_type": "code",
   "execution_count": 4,
   "id": "b6491193",
   "metadata": {},
   "outputs": [
    {
     "name": "stdout",
     "output_type": "stream",
     "text": [
      "复制完成。\n"
     ]
    }
   ],
   "source": [
    "import os\n",
    "import random\n",
    "import shutil\n",
    "\n",
    "# 定义源目录和目标目录\n",
    "source_dir = '/tmp/code/brain_seg/data00/test/00'\n",
    "target_dir = '/tmp/code/brain_seg/data00/test/0010'\n",
    "\n",
    "# 确保目标目录存在\n",
    "os.makedirs(target_dir, exist_ok=True)\n",
    "\n",
    "# 获取源目录中的文件列表\n",
    "file_list = os.listdir(source_dir)\n",
    "\n",
    "# 从文件列表中随机选择10个文件\n",
    "selected_files = random.sample(file_list, 10)\n",
    "\n",
    "# 复制选定的文件到目标目录\n",
    "for file_name in selected_files:\n",
    "    source_file = os.path.join(source_dir, file_name)\n",
    "    target_file = os.path.join(target_dir, file_name)\n",
    "    shutil.copyfile(source_file, target_file)\n",
    "\n",
    "print(\"复制完成。\")\n"
   ]
  },
  {
   "cell_type": "markdown",
   "id": "bc457c08",
   "metadata": {},
   "source": [
    "下一步在loss function的cross entropy中加weight"
   ]
  }
 ],
 "metadata": {
  "kernelspec": {
   "display_name": "Python 3 (ipykernel)",
   "language": "python",
   "name": "python3"
  },
  "language_info": {
   "codemirror_mode": {
    "name": "ipython",
    "version": 3
   },
   "file_extension": ".py",
   "mimetype": "text/x-python",
   "name": "python",
   "nbconvert_exporter": "python",
   "pygments_lexer": "ipython3",
   "version": "3.10.11"
  }
 },
 "nbformat": 4,
 "nbformat_minor": 5
}
